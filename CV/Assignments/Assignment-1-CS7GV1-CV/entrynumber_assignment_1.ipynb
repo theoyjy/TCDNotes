{
  "cells": [
    {
      "cell_type": "markdown",
      "metadata": {
        "id": "pKV-kosUIK_8"
      },
      "source": [
        "# Assignment #01"
      ]
    },
    {
      "cell_type": "markdown",
      "metadata": {
        "id": "mrNRwtOLIV7F"
      },
      "source": [
        "# **Question 1: Image Convolution and Gaussian Filter**\n",
        "\n",
        "## Importing Necessary Libraries"
      ]
    },
    {
      "cell_type": "code",
      "execution_count": 2,
      "metadata": {
        "id": "v93xcyDcIDpA"
      },
      "outputs": [],
      "source": [
        "import numpy as np\n",
        "import cv2\n",
        "import matplotlib.pyplot as plt\n",
        "from scipy.ndimage import gaussian_filter\n",
        "from skimage.metrics import structural_similarity as ssim"
      ]
    },
    {
      "cell_type": "markdown",
      "metadata": {
        "id": "lu2xrTBjKVBL"
      },
      "source": [
        "###1a. Grayscale Image Convolution with 2D Filter (2 Points)"
      ]
    },
    {
      "cell_type": "code",
      "execution_count": null,
      "metadata": {
        "id": "oUARvhGkIN5T"
      },
      "outputs": [],
      "source": [
        "def convolve2d(image, kernel):\n",
        "    \"\"\"\n",
        "    Perform a 2D convolution of a grayscale image with a given kernel.\n",
        "    Args:\n",
        "    - image: 2D numpy array representing the grayscale image\n",
        "    - kernel: 2D numpy array representing the filter/kernel\n",
        "\n",
        "    Returns:\n",
        "    - convolved_image: 2D numpy array of the same size as the input image\n",
        "    \"\"\"\n",
        "    # Code for Grayscale Image Convolution with 2D Filter will go here\n",
        "\n",
        "   return resulting_image\n",
        "\n",
        "\n",
        "plt.figure(figsize=(10, 5))\n",
        "\n",
        "# Display original image\n",
        "plt.subplot(1, 3, 1)\n",
        "plt.imshow(cv2.cvtColor(image, cv2.COLOR_BGR2RGB))\n",
        "plt.title(\"Original Image\")\n",
        "plt.axis(\"off\")\n",
        "\n",
        "# Display Grayscale Image Convolution with 2D Filter\n",
        "plt.subplot(1, 3, 2)\n",
        "plt.imshow(resulting_image, cmap='gray')\n",
        "plt.title(\"Grayscale Image Convolution with 2D Filter \")\n",
        "plt.axis(\"off\")\n",
        "\n",
        "plt.show()"
      ]
    },
    {
      "cell_type": "markdown",
      "metadata": {
        "id": "NKf5G1TAK_Ba"
      },
      "source": [
        "###1b. RGB Image Convolution with 3D Filter (1 Point)"
      ]
    },
    {
      "cell_type": "code",
      "execution_count": null,
      "metadata": {
        "id": "vBNbUYxCLCFv"
      },
      "outputs": [],
      "source": [
        "def convolve_rgb(image, kernel):\n",
        "    \"\"\"\n",
        "    Perform a convolution on an RGB image using a 3D filter.\n",
        "    Args:\n",
        "    - image: 3D numpy array representing the RGB image\n",
        "    - kernel: 3D numpy array (filter) with a depth of 3 (RGB)\n",
        "\n",
        "    Returns:\n",
        "    - convolved_image: 3D numpy array of the same size as the input image\n",
        "    \"\"\"\n",
        "    # Code for RGB Image Convolution with 3D Filter will go here\n",
        "\n",
        "    return convolve_rgb_image\n",
        "\n",
        "\n",
        "plt.figure(figsize=(10, 5))\n",
        "\n",
        "# Display original image\n",
        "plt.subplot(1, 3, 1)\n",
        "plt.imshow(cv2.cvtColor(image, cv2.COLOR_BGR2RGB))\n",
        "plt.title(\"Original Image\")\n",
        "plt.axis(\"off\")\n",
        "\n",
        "# Display RGB Image Convolution with 3D Filter\n",
        "plt.subplot(1, 3, 2)\n",
        "plt.imshow(cv2.cvtColor(convolved_rgb_image, cv2.COLOR_BGR2RGB))\n",
        "plt.title(\"RGB Image Convolution with 3D Filter\")\n",
        "plt.axis(\"off\")\n",
        "\n",
        "plt.show()"
      ]
    },
    {
      "cell_type": "markdown",
      "metadata": {
        "id": "dfgrAzC6Lpik"
      },
      "source": [
        "### Convolve the attached waldo.png with a (2D) Gaussian filter with σ = 1 and visualize the result (display the result of the convolution). You can use built-in functions for convolution. (1 Point)"
      ]
    },
    {
      "cell_type": "code",
      "execution_count": null,
      "metadata": {
        "id": "0GbsBob8Li6c"
      },
      "outputs": [],
      "source": [
        "# Code for (2D) Gaussian filter with σ = 1 will go here\n"
      ]
    },
    {
      "cell_type": "markdown",
      "metadata": {
        "id": "__0-acN5QcPa"
      },
      "source": [
        "\n",
        "##-----------------------------------------------************************----------------------------------------------------\n",
        "\n",
        "## Question 2: Implement Canny Edge Detection from Scratch\n",
        "\n",
        "\n",
        "\n",
        "\n",
        "\n"
      ]
    },
    {
      "cell_type": "markdown",
      "metadata": {
        "id": "KqC0j_T5RzjE"
      },
      "source": [
        "## 2a. Compute Gradient Magnitude for Images. Compute magnitude of gradients for the attached images waldo.png and template.png. (1 Point)"
      ]
    },
    {
      "cell_type": "code",
      "execution_count": null,
      "metadata": {
        "id": "ltsHY_MpQ9FK"
      },
      "outputs": [],
      "source": [
        "def compute_gradient_magnitude(image):\n",
        "    \"\"\"\n",
        "    Compute the magnitude of gradients for an image.\n",
        "    Args:\n",
        "    - image: Grayscale image (2D numpy array)\n",
        "\n",
        "    Returns:\n",
        "    - gradient_magnitude: 2D numpy array representing gradient magnitudes\n",
        "    \"\"\"\n",
        "\n",
        "    pass"
      ]
    },
    {
      "cell_type": "markdown",
      "metadata": {
        "id": "lLm2DEvsSS1Y"
      },
      "source": [
        "## 2b. MyCannyEdgeDetector Function (3 Point)"
      ]
    },
    {
      "cell_type": "markdown",
      "metadata": {
        "id": "iEGtvfQH8FDf"
      },
      "source": [
        "### Key Stages of Canny Edge Detection (Explanation)\n",
        "\n",
        "Explain the key stages of the Canny edge detection algorithm in detail. Your explanation should cover:\n",
        "\n",
        "1. **Noise Reduction**\n",
        "2. **Gradient Calculation**\n",
        "3. **Non-Maximum Suppression**\n",
        "5. **Edge Tracking by Hysteresis**\n",
        "\n",
        "Write your response in the markdown cell below."
      ]
    },
    {
      "cell_type": "markdown",
      "metadata": {
        "id": "sOpjfDltS29l"
      },
      "source": [
        "### Load the image"
      ]
    },
    {
      "cell_type": "code",
      "execution_count": null,
      "metadata": {
        "id": "ozqlCrYrSw6y"
      },
      "outputs": [],
      "source": [
        "image_path = 'path_of_image'  # Replace with your image path\n",
        "\n",
        "image = cv2.imread(image_path)\n",
        "\n",
        "gray_image = cv2.cvtColor(image, cv2.COLOR_BGR2GRAY) # Convert to grayscale"
      ]
    },
    {
      "cell_type": "markdown",
      "metadata": {
        "id": "EhlZCxfgYKEj"
      },
      "source": [
        "####Noise Reduction (Gaussian Blur)"
      ]
    },
    {
      "cell_type": "code",
      "execution_count": null,
      "metadata": {
        "id": "zRM8MEJ3X27t"
      },
      "outputs": [],
      "source": [
        "def apply_gaussian_blur(img, kernel_size=5):\n",
        "    \"\"\"Apply Gaussian blur to reduce noise.\"\"\"\n",
        "    return smoothed_image"
      ]
    },
    {
      "cell_type": "markdown",
      "metadata": {
        "id": "63qz1Zn9X9QF"
      },
      "source": [
        "####Gradient Calculation (using Sobel filters)"
      ]
    },
    {
      "cell_type": "code",
      "execution_count": null,
      "metadata": {
        "id": "Szz8mDSCXWkh"
      },
      "outputs": [],
      "source": [
        "def calculate_gradients(img):\n",
        "    \"\"\"Calculate gradients using Sobel filters.\"\"\"\n",
        "    # Code for Gradient Calculation will go here\n",
        "    return gradient_magnitude, gradient_angle"
      ]
    },
    {
      "cell_type": "markdown",
      "metadata": {
        "id": "-DEvklxrUwyK"
      },
      "source": [
        "####Function for Non-Maximum Suppression"
      ]
    },
    {
      "cell_type": "code",
      "execution_count": null,
      "metadata": {
        "id": "DaCVCd8EUh_y"
      },
      "outputs": [],
      "source": [
        "def non_maximum_suppression(gradient_magnitude, gradient_angle):\n",
        "    \"\"\"\n",
        "    Perform non-maximum suppression on the gradient magnitude.\n",
        "    Args:\n",
        "    - gradient_magnitude: 2D array of gradient magnitudes\n",
        "    - gradient_angle: 2D array of gradient directions (angles in degrees)\n",
        "\n",
        "    Returns:\n",
        "    - suppressed_magnitude: 2D array after non-maximum suppression\n",
        "    \"\"\"\n",
        "    # Code for non-maximum suppression\n",
        "    return suppressed_image\n"
      ]
    },
    {
      "cell_type": "markdown",
      "metadata": {
        "id": "t1LTMdRSU77K"
      },
      "source": [
        "####Function for Hysteresis Thresholding"
      ]
    },
    {
      "cell_type": "code",
      "execution_count": null,
      "metadata": {
        "id": "gn-SnerEU1KA"
      },
      "outputs": [],
      "source": [
        "def hysteresis_thresholding(suppressed_image, low_threshold, high_threshold):\n",
        "    \"\"\"\n",
        "    Perform hysteresis thresholding on the non-max suppressed image.\n",
        "    Args:\n",
        "    - suppressed_image: 2D array after non-maximum suppression\n",
        "    - low_threshold: Low threshold for hysteresis\n",
        "    - high_threshold: High threshold for hysteresis\n",
        "\n",
        "    Returns:\n",
        "    - edge_image: Binary image after hysteresis thresholding\n",
        "    \"\"\"\n",
        "    # Code for hysteresis thresholding\n",
        "    return edge_image\n"
      ]
    },
    {
      "cell_type": "markdown",
      "metadata": {
        "id": "98TOlHVTVoeV"
      },
      "source": [
        "####Main Function for Canny Edge Detection"
      ]
    },
    {
      "cell_type": "code",
      "execution_count": null,
      "metadata": {
        "id": "KOz_YJCvVoHh"
      },
      "outputs": [],
      "source": [
        "def MyCannyEdgeDetector(image, low_threshold, high_threshold):\n",
        "    \"\"\"\n",
        "    Custom implementation of the Canny Edge Detector.\n",
        "    Args:\n",
        "    - image: Grayscale or RGB image (as numpy array)\n",
        "    - threshold: Threshold value for edge detection\n",
        "\n",
        "    Returns:\n",
        "    - edge_image: Binary edge-detected image\n",
        "    \"\"\"\n",
        "\n",
        "    # Apply Gaussian filter\n",
        "    smoothed_image = apply_gaussian_filter(image, sigma=1)\n",
        "\n",
        "    # Compute gradients\n",
        "    gradient_magnitude, gradient_angle = compute_gradient_magnitude(smoothed_image)\n",
        "\n",
        "    # Perform non-maximum suppression\n",
        "    suppressed_image = non_maximum_suppression(gradient_magnitude, gradient_angle)\n",
        "\n",
        "    # Apply hysteresis thresholding\n",
        "    edge_image = hysteresis_thresholding(suppressed_image, low_threshold=low_threshold, high_threshold=high_threshold)\n",
        "\n",
        "    return edge_image\n"
      ]
    },
    {
      "cell_type": "markdown",
      "metadata": {
        "id": "_mNWb7PaYsSA"
      },
      "source": [
        "####Apply your custom Canny function and  built-in OpenCV Canny function\n",
        "\n",
        "*Select the low and high thresholds according to your preference*\n",
        "\n"
      ]
    },
    {
      "cell_type": "code",
      "execution_count": null,
      "metadata": {
        "id": "ien0XM1nYtW5"
      },
      "outputs": [],
      "source": [
        "# Apply your custom Canny function\n",
        "custom_edges = MyCannyEdgeDetector(gray_image, low_threshold=50, high_threshold=150)\n",
        "\n",
        "# Apply the built-in OpenCV Canny function for comparison\n",
        "opencv_edges = cv2.Canny(gray_image, 50, 150)"
      ]
    },
    {
      "cell_type": "markdown",
      "metadata": {
        "id": "JzeKKNE8ZKVz"
      },
      "source": [
        "####Compute the Structural Similarity Index Measure (SSIM) of the edges with your defined code and inbuilt commands here (2 Point).\n"
      ]
    },
    {
      "cell_type": "code",
      "execution_count": null,
      "metadata": {
        "id": "Zmq63_sAY3G6"
      },
      "outputs": [],
      "source": [
        "\n",
        "def calculate_ssim(custom_edges, opencv_edges):\n",
        "    \"\"\"\n",
        "    Calculate the Structural Similarity Index (SSIM) between two edge-detected images.\n",
        "\n",
        "    Args:\n",
        "    - custom_edges: 2D numpy array of edges from custom Canny edge detection\n",
        "    - opencv_edges: 2D numpy array of edges from OpenCV's Canny edge detection\n",
        "\n",
        "    Returns:\n",
        "    - similarity_index: SSIM between the custom and OpenCV edge-detected images\n",
        "    \"\"\"\n",
        "\n",
        "    # Code for Structural Similarity Index Measure will go here\n",
        "\n",
        "    return similarity_index\n",
        "\n",
        "\n",
        "# Calculate SSIM\n",
        "ssim_value = calculate_ssim(custom_edges, opencv_edges)\n",
        "\n",
        "# Print SSIM result\n",
        "print(f\"SSIM between custom Canny and OpenCV Canny: {ssim_value:.4f}\")\n"
      ]
    },
    {
      "cell_type": "markdown",
      "metadata": {
        "id": "SW9tcjiUZpQs"
      },
      "source": [
        "###Visualize the results"
      ]
    },
    {
      "cell_type": "code",
      "execution_count": null,
      "metadata": {
        "id": "S2fMxOawZjAE"
      },
      "outputs": [],
      "source": [
        "plt.figure(figsize=(15, 5))\n",
        "\n",
        "# Display original image\n",
        "plt.subplot(1, 3, 1)\n",
        "plt.imshow(cv2.cvtColor(image, cv2.COLOR_BGR2RGB))\n",
        "plt.title(\"Original Image\")\n",
        "plt.axis(\"off\")\n",
        "\n",
        "# Display custom Canny edge result\n",
        "plt.subplot(1, 3, 2)\n",
        "plt.imshow(custom_edges, cmap='gray')\n",
        "plt.title(\"Custom Canny Edge Detection\")\n",
        "plt.axis(\"off\")\n",
        "\n",
        "# Display OpenCV's Canny edge result\n",
        "plt.subplot(1, 3, 3)\n",
        "plt.imshow(opencv_edges, cmap='gray')\n",
        "plt.title(\"OpenCV Canny Edge Detection\")\n",
        "plt.axis(\"off\")\n",
        "\n",
        "plt.show()"
      ]
    },
    {
      "cell_type": "markdown",
      "metadata": {
        "id": "DKUNDTEoZz7P"
      },
      "source": [
        "###Bonus Question: Limitations and Improvements\n",
        "\n",
        "Discuss potential limitations of the Canny edge detection algorithm. Suggest how it could be improved for images with complex textures or lighting conditions.\n",
        "\n"
      ]
    },
    {
      "cell_type": "markdown",
      "metadata": {
        "id": "0xVZIrrbZ4G4"
      },
      "source": [
        "Write your response here"
      ]
    }
  ],
  "metadata": {
    "colab": {
      "provenance": []
    },
    "kernelspec": {
      "display_name": "Python 3",
      "name": "python3"
    },
    "language_info": {
      "codemirror_mode": {
        "name": "ipython",
        "version": 3
      },
      "file_extension": ".py",
      "mimetype": "text/x-python",
      "name": "python",
      "nbconvert_exporter": "python",
      "pygments_lexer": "ipython3",
      "version": "3.11.9"
    }
  },
  "nbformat": 4,
  "nbformat_minor": 0
}
